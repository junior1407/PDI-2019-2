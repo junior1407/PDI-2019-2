{
 "cells": [
  {
   "cell_type": "markdown",
   "metadata": {},
   "source": [
    "## Tasks\n",
    "###1 - Load a color image and visualize each channel separately.  Eg: 'baboon.png', 'chips.png', 'rgbcube_kbkg.png'\n",
    "###2 - Convert Between color spaces and Visualize each channel separately. \n",
    "    NTSC (BGR2YCrCb)\n",
    "    HSV  (BGR2HSV)\n",
    "    CMYK"
   ]
  },
  {
   "cell_type": "code",
   "execution_count": null,
   "metadata": {},
   "outputs": [],
   "source": [
    "import cv2\n",
    "import matplotlib.pyplot as plt\n",
    "import numpy as np"
   ]
  },
  {
   "cell_type": "code",
   "execution_count": null,
   "metadata": {},
   "outputs": [],
   "source": [
    "def visualizeChannels(img, colors):\n",
    "    for i, col in enumerate(colors):\n",
    "        plt.subplot(1,len(colors),i+1)\n",
    "        plt.title(col)\n",
    "        plt.imshow(img[:,:,i], cmap='gray')\n",
    "    plt.show()\n",
    "\n",
    "def bgr_to_cmyk(img):\n",
    "    b, g, r = cv2.split(img)\n",
    "    C = 255 - r\n",
    "    M = 255 - g\n",
    "    Y = 255 - b\n",
    "    K = np.minimum(C,M,Y)\n",
    "    return cv2.merge((C, M, Y, K))"
   ]
  },
  {
   "cell_type": "markdown",
   "metadata": {},
   "source": [
    "#Task 1"
   ]
  },
  {
   "cell_type": "code",
   "execution_count": null,
   "metadata": {},
   "outputs": [],
   "source": [
    "PATH = '../db/'\n",
    "listimgs = ['rgbcube_kBKG.png', 'baboon.png', 'chips.png']\n",
    "for curr in listimgs:\n",
    "    currImg = cv2.imread('../db/' + curr, cv2.IMREAD_COLOR)\n",
    "    colors = ['Blue','Green','Red']\n",
    "    visualizeChannels(currImg, colors)"
   ]
  },
  {
   "cell_type": "markdown",
   "metadata": {},
   "source": [
    "#Task 2"
   ]
  },
  {
   "cell_type": "code",
   "execution_count": null,
   "metadata": {},
   "outputs": [],
   "source": [
    "PATH = '../db/'\n",
    "listimgs = ['rgbcube_kBKG.png', 'baboon.png', 'chips.png']\n",
    "for curr in listimgs:\n",
    "\n",
    "    imgBGR = cv2.imread('../db/' + curr, cv2.IMREAD_COLOR)\n",
    "    BGR = ['Blue','Green','Red']\n",
    "    visualizeChannels(imgBGR, BGR)\n",
    "    \n",
    "    imgHSV = cv2.cvtColor(imgBGR, cv2.COLOR_BGR2HSV)\n",
    "    HSV = ['Hue', 'Sat', 'Br']\n",
    "    visualizeChannels(imgHSV, HSV)\n",
    "    \n",
    "    imgNTSC = cv2.cvtColor(imgBGR, cv2.COLOR_BGR2HSV)\n",
    "    NTSC = ['Y', 'Cr', 'Cb']\n",
    "    visualizeChannels(imgNTSC, NTSC)\n",
    "    \n",
    "    imgCMYK = bgr_to_cmyk(imgBGR)\n",
    "    CMYK = ['Cyan', 'Magenta', 'Yellow', 'Black']\n",
    "    visualizeChannels(imgCMYK, CMYK)\n",
    "\n"
   ]
  },
  {
   "cell_type": "code",
   "execution_count": null,
   "metadata": {},
   "outputs": [],
   "source": []
  }
 ],
 "metadata": {
  "kernelspec": {
   "display_name": "Python 3",
   "language": "python",
   "name": "python3"
  },
  "language_info": {
   "codemirror_mode": {
    "name": "ipython",
    "version": 3
   },
   "file_extension": ".py",
   "mimetype": "text/x-python",
   "name": "python",
   "nbconvert_exporter": "python",
   "pygments_lexer": "ipython3",
   "version": "3.7.4"
  }
 },
 "nbformat": 4,
 "nbformat_minor": 2
}
