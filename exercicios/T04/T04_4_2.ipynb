{
 "cells": [
  {
   "cell_type": "markdown",
   "metadata": {},
   "source": [
    "# Local Histogram Equalization"
   ]
  },
  {
   "cell_type": "code",
   "execution_count": 11,
   "metadata": {},
   "outputs": [],
   "source": [
    "import cv2\n",
    "import matplotlib.pyplot as plt\n",
    "import numpy as np"
   ]
  },
  {
   "cell_type": "markdown",
   "metadata": {},
   "source": [
    "### Statistics"
   ]
  },
  {
   "cell_type": "code",
   "execution_count": 12,
   "metadata": {},
   "outputs": [],
   "source": [
    "# Windows are identified by numbers from 0 to end\n",
    "\n",
    "\n",
    "#calcs the data's mean\n",
    "def calcMean(data, prob):\n",
    "    mean = 0\n",
    "    for i in range(256):\n",
    "        mean = mean + i*prob[i]\n",
    "    return mean \n",
    "\n",
    "#Gets the Window's data based on Window_number\n",
    "def getWindowData(data,size, neigh_no):\n",
    "    height,width = img.shape[:2] \n",
    "    many_by_line = width/size\n",
    "    center_x = int(size//2 + size * (neigh_no // many_by_line))\n",
    "    center_y = int(size//2 + size * (neigh_no % many_by_line))\n",
    "    data2 = data[ center_x - size//2:center_x + 1+  size//2 , \n",
    "                 center_y - size//2:center_y + 1+  size//2]\n",
    "    return data2\n",
    "\n",
    "#Gets the Window's No based on Pixel Coordinates\n",
    "def getwindowNo(data,size, x, y):\n",
    "    height,width = data.shape[:2] \n",
    "    col = y//size\n",
    "    line = x//size\n",
    "    windowsByLine = width //size\n",
    "    windowsPastLines = line * windowsByLine\n",
    "    return windowsPastLines + line\n",
    "\n",
    "#Gets a dictionary with the probability array\n",
    "def calcProbabilityArray(data):\n",
    "    height,width = img.shape[:2]\n",
    "    unique, counts = np.unique(data, return_counts=True) #Pixel Value, Frequency of Pixel Value\n",
    "    N = height * width # Number of Pixels\n",
    "    counts = counts / N # Probability of each pixel value.\n",
    "    dic  = {k:0 for k in range(256)}\n",
    "    for i in range(len(counts)):\n",
    "        dic[unique[i]] = counts[i]\n",
    "    return dic\n",
    "\n",
    "# Calcs the Nth moment\n",
    "def calcNthMoment(data, n, mean, prob):\n",
    "    moment = 0\n",
    "    for i in range(256):\n",
    "        moment = moment + prob[i]*(i -mean)**n\n",
    "    return moment\n",
    "\n",
    "#Calcs the data's variance\n",
    "def calcVariance(data, mean, prob):\n",
    "    return calcNthMoment(data,2, mean, prob)\n",
    "\n",
    "#Calcs the data's standard deviation\n",
    "def calcSD(data,  mean, prob):\n",
    "    return calcVariance(data, mean, prob)**(1/2)\n",
    "\n",
    "# Returns the new value for a given pixel\n",
    "def equalizePixel(x,y, data, size):   \n",
    "    \n",
    "    global dataLib\n",
    "    global meanLib\n",
    "    global probLib\n",
    "    global sdLib\n",
    "    global k0,p_g,m_g ,k1,k2,sd_g,k3,C\n",
    "\n",
    "    windowNo =getwindowNo(data, size, x,y)\n",
    "    if (windowNo not in dataLib):\n",
    "        dataLib[windowNo] = getWindowData(data, size, windowNo)\n",
    "    if (windowNo not in probLib):\n",
    "        probLib[windowNo] = calcProbabilityArray(dataLib[windowNo])\n",
    "    if (windowNo not in meanLib):\n",
    "        meanLib[windowNo] = calcMean(dataLib[windowNo], probLib[windowNo])\n",
    "    if (windowNo not in sdLib):\n",
    "        sdLib[windowNo] = calcSD(data, meanLib[windowNo], probLib[windowNo])\n",
    "    \n",
    "    # Criteria to decide whether to apply the transformation or not \n",
    "    if (k0 * m_g <= meanLib[windowNo] and\n",
    "        meanLib[windowNo]<=k1*m_g and\n",
    "        k2*sd_g<=sdLib[windowNo] and sdLib[windowNo]<=k3*sd_g ):\n",
    "        return C * data[x][y]\n",
    "    return data[x][y]\n"
   ]
  },
  {
   "cell_type": "code",
   "execution_count": 13,
   "metadata": {},
   "outputs": [],
   "source": [
    "N = 5 #Window's size  (NXN)\n",
    " \n",
    "imgfile = '../../db/squares_noisy.tif'\n",
    "img= cv2.imread(imgfile, 0)\n",
    "height,width = img.shape[:2]\n",
    "\n",
    "height = (height//N)*N\n",
    "width = (width//N)*N\n",
    "\n",
    "#Image is resized so there are enough pixels to make windows without remainder\n",
    "img = cv2.resize(img,(width, height))   \n",
    "img2 = np.zeros((height,width), np.uint8)"
   ]
  },
  {
   "cell_type": "code",
   "execution_count": 14,
   "metadata": {},
   "outputs": [],
   "source": [
    "#Libs to save computed values, so they're not computed again\n",
    "meanLib = {} #mean Lib\n",
    "sdLib = {} # Standard Deviation Lib \n",
    "dataLib = {} # Window Data Lib\n",
    "probLib = {} # Probability Array Lib"
   ]
  },
  {
   "cell_type": "code",
   "execution_count": 15,
   "metadata": {},
   "outputs": [],
   "source": [
    "#Criteria Constants\n",
    "k0 = 0\n",
    "p_g = calcProbabilityArray(img)\n",
    "m_g = calcMean(img, p_g)\n",
    "k1 = 0.1\n",
    "k2 = 0\n",
    "sd_g = calcSD(img, m_g, p_g)\n",
    "k3 = 0.1\n",
    "C = 22.8"
   ]
  },
  {
   "cell_type": "code",
   "execution_count": 16,
   "metadata": {},
   "outputs": [],
   "source": [
    "for i in range(height):\n",
    "    for j in range(width):\n",
    "        img2[i][j] = equalizePixel(i,j,img,N)"
   ]
  },
  {
   "cell_type": "code",
   "execution_count": 17,
   "metadata": {},
   "outputs": [
    {
     "data": {
      "image/png": "[encoded data removed]",
      "text/plain": [
       "<Figure size 576x576 with 2 Axes>"
      ]
     },
     "metadata": {
      "needs_background": "light"
     },
     "output_type": "display_data"
    }
   ],
   "source": [
    "plt.figure(figsize=(8,8))\n",
    "plt.subplot(121), plt.title(\"Imagem original\"), plt.imshow(img, cmap='gray')\n",
    "plt.subplot(122), plt.title(\"Local Histogram Equalized\"), plt.imshow(img2, cmap='gray')\n",
    "plt.show()"
   ]
  }
 ],
 "metadata": {
  "kernelspec": {
   "display_name": "Python 3",
   "language": "python",
   "name": "python3"
  },
  "language_info": {
   "codemirror_mode": {
    "name": "ipython",
    "version": 3
   },
   "file_extension": ".py",
   "mimetype": "text/x-python",
   "name": "python",
   "nbconvert_exporter": "python",
   "pygments_lexer": "ipython3",
   "version": "3.7.4"
  }
 },
 "nbformat": 4,
 "nbformat_minor": 2
}
