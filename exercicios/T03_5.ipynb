{
 "cells": [
  {
   "cell_type": "markdown",
   "metadata": {},
   "source": [
    "# Bitwise Operations\n",
    "### Implement bitwise operations: AND, OR, XOR."
   ]
  },
  {
   "cell_type": "code",
   "execution_count": 1,
   "metadata": {},
   "outputs": [],
   "source": [
    "import cv2\n",
    "import matplotlib.pyplot as plt\n",
    "import numpy as np"
   ]
  },
  {
   "cell_type": "code",
   "execution_count": 2,
   "metadata": {},
   "outputs": [],
   "source": [
    "def bitwise_or  (a,b):\n",
    "    height,width = a.shape[:2]\n",
    "    c = np.zeros((height,width), np.uint8)\n",
    "    for i in range(height):\n",
    "        for j in range(width):\n",
    "            c[i][j] = a[i][j] or b[i][j]\n",
    "    return c\n",
    "\n",
    "def bitwise_xor(a,b):\n",
    "    height,width = a.shape[:2]\n",
    "    c = np.zeros((height,width), np.uint8)\n",
    "    for i in range(height):\n",
    "        for j in range(width):\n",
    "            c[i][j] = a[i][j] ^ b[i][j]\n",
    "    return c\n",
    "\n",
    "def bitwise_and(a,b):\n",
    "    height,width = a.shape[:2]\n",
    "    c = np.zeros((height,width), np.uint8)\n",
    "    for i in range(height):\n",
    "        for j in range(width):\n",
    "            c[i][j] = a[i][j] and b[i][j]\n",
    "    return c"
   ]
  },
  {
   "cell_type": "code",
   "execution_count": 3,
   "metadata": {},
   "outputs": [],
   "source": [
    "height,width  = 10,2\n",
    "a = 1* (np.random.random((height,width)) > 0.5)\n",
    "b = 1* (np.random.random((height,width)) > 0.2)\n",
    "c_xor = bitwise_xor(a,b)\n",
    "c_and = bitwise_and(a,b)\n",
    "c_or = bitwise_or(a,b)"
   ]
  },
  {
   "cell_type": "code",
   "execution_count": 4,
   "metadata": {},
   "outputs": [
    {
     "data": {
      "text/plain": [
       "<matplotlib.image.AxesImage at 0x6960d30>"
      ]
     },
     "execution_count": 4,
     "metadata": {},
     "output_type": "execute_result"
    },
    {
     "data": {
      "image/png": "[encoded data removed]",
      "text/plain": [
       "<Figure size 288x1008 with 9 Axes>"
      ]
     },
     "metadata": {
      "needs_background": "light"
     },
     "output_type": "display_data"
    }
   ],
   "source": [
    "plt.figure(figsize=(4,14))\n",
    "\n",
    "plt.subplot(331)\n",
    "plt.title(\"a\")\n",
    "plt.imshow(a, cmap=\"gray\")\n",
    "\n",
    "plt.subplot(332)\n",
    "plt.title(\"b\")\n",
    "plt.imshow(b, cmap=\"gray\")\n",
    "\n",
    "plt.subplot(333)\n",
    "plt.title(\"c_and\")\n",
    "plt.imshow(c_and, cmap=\"gray\")\n",
    "\n",
    "\n",
    "plt.subplot(334)\n",
    "plt.title(\"a\")\n",
    "plt.imshow(a, cmap=\"gray\")\n",
    "\n",
    "plt.subplot(335)\n",
    "plt.title(\"b\")\n",
    "plt.imshow(b, cmap=\"gray\")\n",
    "\n",
    "plt.subplot(336)\n",
    "plt.title(\"c_or\")\n",
    "plt.imshow(c_or, cmap=\"gray\")\n",
    "\n",
    "plt.subplot(337)\n",
    "plt.title(\"a\")\n",
    "plt.imshow(a, cmap=\"gray\")\n",
    "\n",
    "plt.subplot(338)\n",
    "plt.title(\"b\")\n",
    "plt.imshow(b, cmap=\"gray\")\n",
    "\n",
    "plt.subplot(339)\n",
    "plt.title(\"c_xor\")\n",
    "plt.imshow(c_xor, cmap=\"gray\")\n"
   ]
  }
 ],
 "metadata": {
  "kernelspec": {
   "display_name": "Python 3",
   "language": "python",
   "name": "python3"
  },
  "language_info": {
   "codemirror_mode": {
    "name": "ipython",
    "version": 3
   },
   "file_extension": ".py",
   "mimetype": "text/x-python",
   "name": "python",
   "nbconvert_exporter": "python",
   "pygments_lexer": "ipython3",
   "version": "3.7.4"
  }
 },
 "nbformat": 4,
 "nbformat_minor": 2
}
