{
 "cells": [
  {
   "cell_type": "markdown",
   "metadata": {},
   "source": [
    "# Gaussiana com rotação\n",
    "### Create a function that generates the image of a Gaussian optionally rotate by an angle \\theta and with mx, my, sx, sy as input arguments."
   ]
  },
  {
   "cell_type": "code",
   "execution_count": 5,
   "metadata": {},
   "outputs": [],
   "source": [
    "#Imports\n",
    "import numpy as np\n",
    "import time\n",
    "import matplotlib.pyplot as plt\n",
    "%matplotlib inline\n"
   ]
  },
  {
   "cell_type": "code",
   "execution_count": 6,
   "metadata": {},
   "outputs": [],
   "source": [
    "#Function\n",
    "def generateGaussian(theta, mx, my, sx, sy):  \n",
    "    global X,Y\n",
    "    \n",
    "    #Rotation\n",
    "    Xr = np.cos(theta)*X + np.sin(theta)*Y\n",
    "    Yr = -np.sin(theta)*X + np.cos(theta)*Y\n",
    "    X=Xr;\n",
    "    Y=Yr;\n",
    "    \n",
    "    \n",
    "    #Gaussian\n",
    "    A = 20 #Amplitude\n",
    "    x0= mx  # X's mean\n",
    "    y0 = my # Y's mean\n",
    "    Z = A * np.exp(-(((X-x0)**2/(2*(sx**2)))+((Y-y0)**2/(2*(sy**2)))))\n",
    "    return Z\n",
    "    \n",
    "    \n",
    "    "
   ]
  },
  {
   "cell_type": "code",
   "execution_count": 7,
   "metadata": {},
   "outputs": [],
   "source": [
    "#Image constants\n",
    "height = 100\n",
    "width = 100\n",
    "n = 100\n",
    "x = np.linspace(-height//2, height//2, n)\n",
    "y = np.linspace(-width//2, width//2,n)\n",
    "X, Y = np.meshgrid(x,y)\n"
   ]
  },
  {
   "cell_type": "code",
   "execution_count": 8,
   "metadata": {},
   "outputs": [
    {
     "data": {
      "image/png": "[encoded data removed]",
      "text/plain": [
       "<Figure size 432x288 with 1 Axes>"
      ]
     },
     "metadata": {
      "needs_background": "light"
     },
     "output_type": "display_data"
    }
   ],
   "source": [
    "Z = generateGaussian(np.pi/4, 0,0,15,10)\n",
    "plt.imshow(Z, cmap = \"gray\")\n",
    "plt.show()\n"
   ]
  }
 ],
 "metadata": {
  "kernelspec": {
   "display_name": "Python 3",
   "language": "python",
   "name": "python3"
  },
  "language_info": {
   "codemirror_mode": {
    "name": "ipython",
    "version": 3
   },
   "file_extension": ".py",
   "mimetype": "text/x-python",
   "name": "python",
   "nbconvert_exporter": "python",
   "pygments_lexer": "ipython3",
   "version": "3.7.4"
  }
 },
 "nbformat": 4,
 "nbformat_minor": 2
}
